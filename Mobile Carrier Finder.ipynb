{
 "cells": [
  {
   "cell_type": "markdown",
   "metadata": {},
   "source": [
    "####How to find the service provider of your phone connection in python.####"
   ]
  },
  {
   "cell_type": "code",
   "execution_count": null,
   "metadata": {},
   "outputs": [],
   "source": [
    "pip install phonenumbers"
   ]
  },
  {
   "cell_type": "code",
   "execution_count": null,
   "metadata": {},
   "outputs": [],
   "source": [
    "pip install geocoder"
   ]
  },
  {
   "cell_type": "code",
   "execution_count": null,
   "metadata": {},
   "outputs": [],
   "source": [
    "from phonenumbers import geocoder\n",
    "\n",
    "#finding the country\n",
    "ch_number=phonenumbers.parse('+919908891000', 'CH') # Random number has been selected\n",
    "country=geocoder.description_for_number(ch_number,'en')\n",
    "print('country=', country)\n",
    "\n",
    "\n",
    "#finding the carrier\n",
    "ro_number=phonenumbers.parse('+919908891000','NO') # Random number has been selected\n",
    "service_provider=carrier.name_for_number(ro_number, 'en')\n",
    "print('service_provider=', service_provider)\n"
   ]
  },
  {
   "cell_type": "code",
   "execution_count": null,
   "metadata": {},
   "outputs": [],
   "source": [
    "from phonenumbers import geocoder\n",
    "\n",
    "#finding the country\n",
    "ch_number=phonenumbers.parse('+966533262998', 'CH') # Random number has been selected\n",
    "country=geocoder.description_for_number(ch_number,'en')\n",
    "print('country=', country)\n",
    "\n",
    "\n",
    "#finding the carrier\n",
    "ro_number=phonenumbers.parse('+966533262998','NO') # Random number has been selected\n",
    "service_provider=carrier.name_for_number(ro_number, 'en')\n",
    "print('service_provider=', service_provider)\n"
   ]
  },
  {
   "cell_type": "code",
   "execution_count": null,
   "metadata": {},
   "outputs": [],
   "source": [
    "from phonenumbers import geocoder\n",
    "\n",
    "#finding the country\n",
    "ch_number=phonenumbers.parse('+447459269369', 'CH') # Random number has been selected\n",
    "country=geocoder.description_for_number(ch_number,'en')\n",
    "print('country=', country)\n",
    "\n",
    "\n",
    "#finding the carrier\n",
    "ro_number=phonenumbers.parse('+447459269369','NO') # Random number has been selected\n",
    "service_provider=carrier.name_for_number(ro_number, 'en')\n",
    "print('service_provider=', service_provider)\n"
   ]
  },
  {
   "cell_type": "code",
   "execution_count": null,
   "metadata": {
    "scrolled": true
   },
   "outputs": [],
   "source": [
    "from phonenumbers import geocoder\n",
    "\n",
    "#finding the country\n",
    "ch_number=phonenumbers.parse('+33635169442', 'CH') # Random number has been selected\n",
    "country=geocoder.description_for_number(ch_number,'en')\n",
    "print('country=', country)\n",
    "\n",
    "\n",
    "#finding the carrier\n",
    "ro_number=phonenumbers.parse('+33635169442','NO') # Random number has been selected\n",
    "service_provider=carrier.name_for_number(ro_number, 'en')\n",
    "print('service_provider=', service_provider)\n"
   ]
  },
  {
   "cell_type": "code",
   "execution_count": null,
   "metadata": {},
   "outputs": [],
   "source": [
    "from phonenumbers import geocoder\n",
    "\n",
    "#finding the country\n",
    "ch_number=phonenumbers.parse('+97433925230', 'CH') # Random number has been selected\n",
    "country=geocoder.description_for_number(ch_number,'en')\n",
    "print('country=', country)\n",
    "\n",
    "\n",
    "#finding the carrier\n",
    "ro_number=phonenumbers.parse('+97433925230','NO') # Random number has been selected\n",
    "service_provider=carrier.name_for_number(ro_number, 'en')\n",
    "print('service_provider=', service_provider)\n"
   ]
  },
  {
   "cell_type": "code",
   "execution_count": null,
   "metadata": {},
   "outputs": [],
   "source": []
  }
 ],
 "metadata": {
  "kernelspec": {
   "display_name": "Python 3",
   "language": "python",
   "name": "python3"
  },
  "language_info": {
   "codemirror_mode": {
    "name": "ipython",
    "version": 3
   },
   "file_extension": ".py",
   "mimetype": "text/x-python",
   "name": "python",
   "nbconvert_exporter": "python",
   "pygments_lexer": "ipython3",
   "version": "3.7.4"
  }
 },
 "nbformat": 4,
 "nbformat_minor": 2
}
