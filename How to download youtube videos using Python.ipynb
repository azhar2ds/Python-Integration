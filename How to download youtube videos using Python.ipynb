{
  "nbformat": 4,
  "nbformat_minor": 0,
  "metadata": {
    "colab": {
      "name": "Copy of Untitled",
      "provenance": [],
      "include_colab_link": true
    },
    "kernelspec": {
      "name": "python3",
      "display_name": "Python 3"
    }
  },
  "cells": [
    {
      "cell_type": "markdown",
      "metadata": {
        "id": "view-in-github",
        "colab_type": "text"
      },
      "source": [
        "<a href=\"https://colab.research.google.com/github/azhar2ds/Python-Integration/blob/master/How%20to%20download%20youtube%20videos%20using%20Python.ipynb\" target=\"_parent\"><img src=\"https://colab.research.google.com/assets/colab-badge.svg\" alt=\"Open In Colab\"/></a>"
      ]
    },
    {
      "cell_type": "markdown",
      "metadata": {
        "id": "Kqxjo9gijle3",
        "colab_type": "text"
      },
      "source": [
        "## **How to download youtube videos using Python**"
      ]
    },
    {
      "cell_type": "markdown",
      "metadata": {
        "id": "-9LH_Qwaonac",
        "colab_type": "text"
      },
      "source": [
        ""
      ]
    },
    {
      "cell_type": "code",
      "metadata": {
        "id": "eteq3B_asDlP",
        "colab_type": "code",
        "outputId": "823c7d8a-267a-4e14-ae4c-d5916e06b89c",
        "colab": {
          "base_uri": "https://localhost:8080/",
          "height": 221
        }
      },
      "source": [
        "# First you have to download youtube_dl library. 'pip install youtube_dl'\n",
        "\n",
        "from __future__ import unicode_literals\n",
        "import youtube_dl\n",
        "\n",
        "ydl_opts={}\n",
        "with youtube_dl.YoutubeDL(ydl_opts)as ydl:\n",
        "    ydl.download(['https://www.youtube.com/watch?v=qiZkQlt5xlo'])\n",
        "# video will be saved  in mp4 format at your system default location..."
      ],
      "execution_count": 0,
      "outputs": [
        {
          "output_type": "stream",
          "text": [
            "[youtube] qiZkQlt5xlo: Downloading webpage\n",
            "[youtube] qiZkQlt5xlo: Downloading video info webpage\n",
            "[youtube] qiZkQlt5xlo: Downloading MPD manifest\n",
            "[dashsegments] Total fragments: 13\n",
            "[download] Destination: Pink Panther Maplestory's 1-Minute Introduction-qiZkQlt5xlo.f248.webm\n",
            "[download] 100% of 4.07MiB in 00:05\n",
            "[dashsegments] Total fragments: 8\n",
            "[download] Destination: Pink Panther Maplestory's 1-Minute Introduction-qiZkQlt5xlo.f251.webm\n",
            "[download] 100% of 1.05MiB in 00:01\n",
            "[ffmpeg] Merging formats into \"Pink Panther Maplestory's 1-Minute Introduction-qiZkQlt5xlo.webm\"\n",
            "Deleting original file Pink Panther Maplestory's 1-Minute Introduction-qiZkQlt5xlo.f248.webm (pass -k to keep)\n",
            "Deleting original file Pink Panther Maplestory's 1-Minute Introduction-qiZkQlt5xlo.f251.webm (pass -k to keep)\n"
          ],
          "name": "stdout"
        }
      ]
    }
  ]
}