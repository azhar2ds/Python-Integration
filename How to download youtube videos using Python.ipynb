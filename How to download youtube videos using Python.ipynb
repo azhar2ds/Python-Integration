{
 "cells": [
  {
   "cell_type": "code",
   "execution_count": null,
   "metadata": {},
   "outputs": [],
   "source": [
    "# First you have to download youtube_dl library. 'pip install youtube_dl'\n",
    "\n",
    "from __future__ import unicode_literals\n",
    "import youtube_dl\n",
    "\n",
    "ydl_opts={}\n",
    "with youtube_dl.YoutubeDL(ydl_opts)as ydl:\n",
    "    ydl.download(['https://www.youtube.com/watch?v=qiZkQlt5xlo'])\n",
    "# video will be saved  in mp4 format at your system default location...\n"
   ]
  }
 ],
 "metadata": {
  "kernelspec": {
   "display_name": "Python 3",
   "language": "python",
   "name": "python3"
  },
  "language_info": {
   "codemirror_mode": {
    "name": "ipython",
    "version": 3
   },
   "file_extension": ".py",
   "mimetype": "text/x-python",
   "name": "python",
   "nbconvert_exporter": "python",
   "pygments_lexer": "ipython3",
   "version": "3.7.3"
  }
 },
 "nbformat": 4,
 "nbformat_minor": 2
}
